{
 "cells": [
  {
   "cell_type": "markdown",
   "id": "1f91dbb5",
   "metadata": {},
   "source": [
    "<h1>Libraries"
   ]
  },
  {
   "cell_type": "code",
   "execution_count": 9,
   "id": "0bca6fac",
   "metadata": {},
   "outputs": [],
   "source": [
    "import h5py\n",
    "import cv2\n",
    "import numpy as np\n",
    "import pandas as pd\n",
    "from sklearn.model_selection import train_test_split\n",
    "from sklearn.model_selection import GridSearchCV\n",
    "from sklearn import svm\n",
    "from sklearn.metrics import accuracy_score, precision_score, recall_score, f1_score, make_scorer\n",
    "from sklearn.metrics import confusion_matrix\n",
    "import matplotlib.pyplot as plt\n",
    "import seaborn as sn\n",
    "from sklearn.model_selection import cross_validate, KFold\n",
    "from sklearn.ensemble import RandomForestClassifier\n",
    "from itertools import combinations\n",
    "from sklearn.metrics import roc_curve\n",
    "from sklearn.metrics import roc_auc_score\n",
    "from sklearn.model_selection import cross_val_predict"
   ]
  },
  {
   "cell_type": "code",
   "execution_count": 10,
   "id": "52e3de28",
   "metadata": {},
   "outputs": [],
   "source": [
    "test_size    = 0.20\n",
    "seed         = 9\n",
    "h5_color     = 'C:/Users/zambr/OneDrive/Escritorio/7mo Semestre/Dataset Mineria/histo/color_features2.h5'\n",
    "h5_colorLb   = 'C:/Users/zambr/OneDrive/Escritorio/7mo Semestre/Dataset Mineria/histo/color_features_labels2.h5'\n",
    "scoring      = {'accuracy' : make_scorer(accuracy_score),\n",
    "                'f1_score' : make_scorer(f1_score, average = 'weighted'), \n",
    "                'precision' : make_scorer(precision_score, average = 'weighted'),\n",
    "                'recall' : make_scorer(recall_score, average = 'weighted')}"
   ]
  },
  {
   "cell_type": "markdown",
   "id": "6e906e96",
   "metadata": {},
   "source": [
    "<h1>Libraries"
   ]
  },
  {
   "cell_type": "code",
   "execution_count": 11,
   "id": "7b9f2d48",
   "metadata": {},
   "outputs": [
    {
     "name": "stdout",
     "output_type": "stream",
     "text": [
      "[STATUS] features shape: (7285, 512)\n",
      "[STATUS] labels shape: (7285,)\n",
      "[STATUS] training started...\n"
     ]
    }
   ],
   "source": [
    "# import the feature vector and trained labels\n",
    "h5f_color   = h5py.File(h5_color, 'r')\n",
    "h5f_colorLb = h5py.File(h5_colorLb, 'r')\n",
    "\n",
    "color_features_string          = h5f_color['ojosCaracteristicas2']\n",
    "color_features_labels_string   = h5f_colorLb['ojosCaracteristicas_Etiquetas2']\n",
    "\n",
    "color_features = np.array(color_features_string)\n",
    "color_features_labels  = np.array(color_features_labels_string)\n",
    "\n",
    "h5f_color.close()\n",
    "h5f_colorLb.close()\n",
    "\n",
    "# verify the shape of the feature vector and labels\n",
    "print(\"[STATUS] features shape: {}\".format(color_features.shape))\n",
    "print(\"[STATUS] labels shape: {}\".format(color_features_labels.shape))\n",
    "\n",
    "print(\"[STATUS] training started...\")"
   ]
  },
  {
   "cell_type": "code",
   "execution_count": 12,
   "id": "5f7acf3a",
   "metadata": {},
   "outputs": [
    {
     "name": "stdout",
     "output_type": "stream",
     "text": [
      "[STATUS] features shape: (7285, 512)\n"
     ]
    }
   ],
   "source": [
    "global_features = np.hstack([color_features])\n",
    "print(\"[STATUS] features shape: {}\".format(global_features.shape))\n"
   ]
  },
  {
   "cell_type": "markdown",
   "id": "0bca0543",
   "metadata": {},
   "source": [
    "<h1>Identify X and Y"
   ]
  },
  {
   "cell_type": "code",
   "execution_count": 13,
   "id": "e57aaf51",
   "metadata": {},
   "outputs": [],
   "source": [
    "X = global_features\n",
    "Y = color_features_labels"
   ]
  },
  {
   "cell_type": "markdown",
   "id": "230295ee",
   "metadata": {},
   "source": [
    "<h1>Training and Testing"
   ]
  },
  {
   "cell_type": "code",
   "execution_count": 14,
   "id": "d564d291",
   "metadata": {},
   "outputs": [
    {
     "data": {
      "text/plain": [
       "((5828, 512), (1457, 512))"
      ]
     },
     "execution_count": 14,
     "metadata": {},
     "output_type": "execute_result"
    }
   ],
   "source": [
    "X_train, X_test, y_train, y_test = train_test_split(X, Y,\n",
    "                                        test_size   = test_size,\n",
    "                                        random_state = seed)\n",
    "\n",
    "X_train.shape, X_test.shape"
   ]
  },
  {
   "cell_type": "markdown",
   "id": "d3b945c9",
   "metadata": {},
   "source": [
    "<h1>Kernels"
   ]
  },
  {
   "cell_type": "code",
   "execution_count": 15,
   "id": "f46c9816",
   "metadata": {},
   "outputs": [],
   "source": [
    "linear_param_grid = {\n",
    "    \n",
    "        \"kernel\": [\"linear\"],\n",
    "        \"C\": [0.0001, 0.001, 0.1, 1, 10, 100, 1000],\n",
    "        \"decision_function_shape\": ['ovo', 'ovr']\n",
    "}"
   ]
  },
  {
   "cell_type": "code",
   "execution_count": 16,
   "id": "a02e73cb",
   "metadata": {},
   "outputs": [],
   "source": [
    "sigmoid_param_grid = {\n",
    "        \"kernel\": [\"sigmoid\"],\n",
    "        \"gamma\": [\"auto\", \"scale\"],\n",
    "        \"C\": [0.0001, 0.001, 0.1, 1, 10, 100, 1000],\n",
    "        \"decision_function_shape\": ['ovo', 'ovr']\n",
    "}"
   ]
  },
  {
   "cell_type": "markdown",
   "id": "5361204c",
   "metadata": {},
   "source": [
    "<h1>Sigmoid Kernel"
   ]
  },
  {
   "cell_type": "code",
   "execution_count": 17,
   "id": "6257d2fe",
   "metadata": {},
   "outputs": [
    {
     "name": "stdout",
     "output_type": "stream",
     "text": [
      "SVC(C=10, decision_function_shape='ovo', gamma='auto', kernel='sigmoid')\n"
     ]
    }
   ],
   "source": [
    "sigmoid_grid = GridSearchCV(svm.SVC(), sigmoid_param_grid)\n",
    "sigmoid_grid.fit(X_train,y_train)\n",
    "print(sigmoid_grid.best_estimator_)"
   ]
  },
  {
   "cell_type": "code",
   "execution_count": 18,
   "id": "a8dd6592",
   "metadata": {},
   "outputs": [
    {
     "name": "stdout",
     "output_type": "stream",
     "text": [
      "Accuracy (Sigmoid Kernel):  75.57\n",
      "F1 (Sigmoid Kernel):  75.29\n",
      "Precision (Sigmoid Kernel):  76.00\n",
      "Recall (Sigmoid Kernel):  75.57\n"
     ]
    }
   ],
   "source": [
    "sigmoid_pred = sigmoid_grid.predict(X_test)\n",
    "sigmoid_accuracy = accuracy_score(y_test, sigmoid_pred)\n",
    "sigmoid_precision = precision_score(y_test, sigmoid_pred, average='weighted')\n",
    "sigmoid_recall = recall_score(y_test, sigmoid_pred, average='weighted')\n",
    "sigmoid_f1 = f1_score(y_test, sigmoid_pred, average='weighted')\n",
    "print('Accuracy (Sigmoid Kernel): ', \"%.2f\" % (sigmoid_accuracy*100))\n",
    "print('F1 (Sigmoid Kernel): ', \"%.2f\" % (sigmoid_f1*100))\n",
    "print('Precision (Sigmoid Kernel): ', \"%.2f\" % (sigmoid_precision*100))\n",
    "print('Recall (Sigmoid Kernel): ', \"%.2f\" % (sigmoid_recall*100))"
   ]
  },
  {
   "cell_type": "code",
   "execution_count": 19,
   "id": "bbe80821",
   "metadata": {
    "scrolled": true
   },
   "outputs": [
    {
     "name": "stdout",
     "output_type": "stream",
     "text": [
      "Accuracy (Sigmoid Kernel):  76.01\n",
      "F1 (Sigmoid Kernel):  75.75\n",
      "Precision (Sigmoid Kernel):  76.61\n",
      "Recall (Sigmoid Kernel):  76.01\n"
     ]
    }
   ],
   "source": [
    "results = cross_validate(estimator=sigmoid_grid, X=X_train, y=y_train, cv=8, scoring=scoring)\n",
    "\n",
    "print('Accuracy (Sigmoid Kernel): ', \"%.2f\" % (np.mean(results['test_accuracy'])*100))\n",
    "print('F1 (Sigmoid Kernel): ', \"%.2f\" % (np.mean(results['test_f1_score'])*100))\n",
    "print('Precision (Sigmoid Kernel): ', \"%.2f\" % (np.mean(results['test_precision'])*100))\n",
    "print('Recall (Sigmoid Kernel): ', \"%.2f\" % (np.mean(results['test_recall'])*100))"
   ]
  },
  {
   "cell_type": "markdown",
   "id": "eabaa1f5",
   "metadata": {},
   "source": [
    "<h1>Linear Kernel\n"
   ]
  },
  {
   "cell_type": "code",
   "execution_count": 20,
   "id": "3869986c",
   "metadata": {},
   "outputs": [
    {
     "name": "stdout",
     "output_type": "stream",
     "text": [
      "SVC(C=0.1, decision_function_shape='ovo', kernel='linear')\n"
     ]
    }
   ],
   "source": [
    "linear_grid = GridSearchCV(svm.SVC(), linear_param_grid)\n",
    "linear_grid.fit(X_train,y_train)\n",
    "print(linear_grid.best_estimator_)"
   ]
  },
  {
   "cell_type": "code",
   "execution_count": 21,
   "id": "c535ecd8",
   "metadata": {},
   "outputs": [
    {
     "name": "stdout",
     "output_type": "stream",
     "text": [
      "Accuracy (Linear Kernel):  76.60\n",
      "F1 (Linear Kernel):  76.19\n",
      "Precision (Linear Kernel):  77.51\n",
      "Recall (Linear Kernel):  76.60\n"
     ]
    }
   ],
   "source": [
    "linear_pred = linear_grid.predict(X_test)\n",
    "linear_accuracy = accuracy_score(y_test, linear_pred)\n",
    "linear_precision = precision_score(y_test, linear_pred, average='weighted')\n",
    "linear_recall = recall_score(y_test, linear_pred, average='weighted')\n",
    "linear_f1 = f1_score(y_test, linear_pred, average='weighted')\n",
    "print('Accuracy (Linear Kernel): ', \"%.2f\" % (linear_accuracy*100))\n",
    "print('F1 (Linear Kernel): ', \"%.2f\" % (linear_f1*100))\n",
    "print('Precision (Linear Kernel): ', \"%.2f\" % (linear_precision*100))\n",
    "print('Recall (Linear Kernel): ', \"%.2f\" % (linear_recall*100))"
   ]
  },
  {
   "cell_type": "code",
   "execution_count": 22,
   "id": "6568232b",
   "metadata": {},
   "outputs": [
    {
     "name": "stdout",
     "output_type": "stream",
     "text": [
      "Accuracy (Linear Kernel):  76.17\n",
      "F1 (Linear Kernel):  75.80\n",
      "Precision (Linear Kernel):  77.09\n",
      "Recall (Linear Kernel):  76.17\n"
     ]
    }
   ],
   "source": [
    "results = cross_validate(estimator=linear_grid, X=X_train, y=y_train, scoring=scoring)\n",
    "\n",
    "print('Accuracy (Linear Kernel): ', \"%.2f\" % (np.mean(results['test_accuracy'])*100))\n",
    "print('F1 (Linear Kernel): ', \"%.2f\" % (np.mean(results['test_f1_score'])*100))\n",
    "print('Precision (Linear Kernel): ', \"%.2f\" % (np.mean(results['test_precision'])*100))\n",
    "print('Recall (Linear Kernel): ', \"%.2f\" % (np.mean(results['test_recall'])*100))"
   ]
  }
 ],
 "metadata": {
  "kernelspec": {
   "display_name": "Python 3 (ipykernel)",
   "language": "python",
   "name": "python3"
  },
  "language_info": {
   "codemirror_mode": {
    "name": "ipython",
    "version": 3
   },
   "file_extension": ".py",
   "mimetype": "text/x-python",
   "name": "python",
   "nbconvert_exporter": "python",
   "pygments_lexer": "ipython3",
   "version": "3.9.12"
  }
 },
 "nbformat": 4,
 "nbformat_minor": 5
}
